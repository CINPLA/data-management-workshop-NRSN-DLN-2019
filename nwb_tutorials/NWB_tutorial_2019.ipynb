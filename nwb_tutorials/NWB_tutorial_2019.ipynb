{
 "cells": [
  {
   "cell_type": "markdown",
   "metadata": {},
   "source": [
    "# Cosyne 2019 NWB:N Tutorial - Extracellular Electrophysiology"
   ]
  },
  {
   "cell_type": "markdown",
   "metadata": {},
   "source": [
    "## Set up NWB file\n",
    "NWB files require a session start time to be entered with a timezone field."
   ]
  },
  {
   "cell_type": "code",
   "execution_count": 1,
   "metadata": {},
   "outputs": [],
   "source": [
    "from pynwb import NWBFile\n",
    "from datetime import datetime\n",
    "from dateutil import tz\n",
    "\n",
    "start_time = datetime(2018, 4, 25, 2, 30, 3, tzinfo=tz.gettz('US/Pacific'))\n",
    "\n",
    "nwbfile = NWBFile(identifier='Mouse5_Day3',\n",
    "                 session_description='mouse in open exploration and theta maze',  # required\n",
    "                 session_start_time=start_time,  # required\n",
    "                 experimenter='My Name',  # optional\n",
    "                 session_id='session_id',  # optional\n",
    "                 institution='University of My Institution',  # optional\n",
    "                 lab='My Lab Name',  # optional\n",
    "                 related_publications='DOI:10.1016/j.neuron.2016.12.011')  # optional"
   ]
  },
  {
   "cell_type": "markdown",
   "metadata": {},
   "source": [
    "## Subject info"
   ]
  },
  {
   "cell_type": "code",
   "execution_count": 2,
   "metadata": {},
   "outputs": [],
   "source": [
    "from pynwb.file import Subject\n",
    "\n",
    "nwbfile.subject = Subject(age='9 months', description='mouse 5',\n",
    "                          species='Mus musculus', sex='M')"
   ]
  },
  {
   "cell_type": "markdown",
   "metadata": {},
   "source": [
    "## Position\n",
    "The `Position` object is a `MultiContainerInterface` that holds one or more `SpatialSeries` objects, which are a subclass of `TimeSeries`. Here, we put a `SpatialSeries` object called `'position'` in a `Position` object, and put that in a `ProcessingModule` named `'behavior'`.\n",
    "<img src=\"images/position.png\" width=\"800\">"
   ]
  },
  {
   "cell_type": "code",
   "execution_count": 3,
   "metadata": {},
   "outputs": [],
   "source": [
    "import numpy as np\n",
    "from pynwb.behavior import SpatialSeries, Position\n",
    "\n",
    "position_data = np.array([\n",
    "    np.linspace(0, 10, 100),\n",
    "    np.linspace(1, 8, 100)]).T\n",
    "spatial_series_object = SpatialSeries(\n",
    "   name='position', data=position_data,\n",
    "   reference_frame='unknown',\n",
    "   conversion=1.0, resolution=np.nan,\n",
    "   timestamps=np.linspace(0, 100) / 200)"
   ]
  },
  {
   "cell_type": "code",
   "execution_count": 4,
   "metadata": {},
   "outputs": [],
   "source": [
    "pos_obj = Position(spatial_series=spatial_series_object)\n",
    "behavior_module = nwbfile.create_processing_module(\n",
    "    name='behavior',\n",
    "    description='data relevant to behavior')\n",
    "\n",
    "behavior_module.add_data_interface(pos_obj)"
   ]
  },
  {
   "cell_type": "markdown",
   "metadata": {},
   "source": [
    "## Write to file"
   ]
  },
  {
   "cell_type": "code",
   "execution_count": 5,
   "metadata": {},
   "outputs": [],
   "source": [
    "from pynwb import NWBHDF5IO\n",
    "\n",
    "with NWBHDF5IO('test_ephys.nwb', 'w') as io:\n",
    "    io.write(nwbfile)"
   ]
  },
  {
   "cell_type": "markdown",
   "metadata": {},
   "source": [
    "## Trials\n",
    "Trials is another `DynamicTable` that lives an `/intervals/trials`."
   ]
  },
  {
   "cell_type": "code",
   "execution_count": null,
   "metadata": {},
   "outputs": [],
   "source": [
    "nwbfile.add_trial_column('correct', description='correct trial')\n",
    "nwbfile.add_trial(start_time=1.0, stop_time=5.0, correct=True)\n",
    "nwbfile.add_trial(start_time=6.0, stop_time=10.0, correct=False)"
   ]
  },
  {
   "cell_type": "markdown",
   "metadata": {},
   "source": [
    "## Electrodes table\n",
    "Extracellular electrodes are stored in a `electrodes`, which is a `DynamicTable`. `electrodes` has several required fields: x, y, z, impedence, location, filtering, and electrode_group. Here, we also demonstate how to add optional columns to a table by adding the `'label'` column.<img src=\"images/electrodes_table.png\" width=\"300\">"
   ]
  },
  {
   "cell_type": "code",
   "execution_count": 6,
   "metadata": {},
   "outputs": [],
   "source": [
    "nwbfile.add_electrode_column('label', 'label of electrode')\n",
    "shank_channels = [4, 3]\n",
    "\n",
    "electrode_counter = 0\n",
    "device = nwbfile.create_device('implant')\n",
    "for shankn, nelecs in enumerate(shank_channels):\n",
    "    electrode_group = nwbfile.create_electrode_group(\n",
    "       name='shank{}'.format(shankn),\n",
    "       description='electrode group for shank {}'.format(shankn),\n",
    "       device=device,\n",
    "       location='brain area')\n",
    "    for ielec in range(nelecs):\n",
    "        nwbfile.add_electrode(\n",
    "           x=5.3, y=1.5, z=8.5, imp=np.nan,\n",
    "           location='unknown', filtering='unknown',\n",
    "           group=electrode_group,\n",
    "           label='shank{}elec{}'.format(shankn, ielec))\n",
    "        electrode_counter += 1\n",
    "\n",
    "all_table_region = nwbfile.create_electrode_table_region(\n",
    "  list(range(electrode_counter)), 'all electrodes')"
   ]
  },
  {
   "cell_type": "markdown",
   "metadata": {},
   "source": [
    "## LFP\n",
    "`LFP` is another `MultiContainerInterface`. It holds one or more `ElectricalSeries` objects, which are `TimeSeries`. Here, we put an `ElectricalSeries` named `'lfp'` in an `LFP` object, in a `ProcessingModule` named `'ecephys'`.\n",
    "<img src=\"images/lfp.png\" width=\"800\">"
   ]
  },
  {
   "cell_type": "code",
   "execution_count": 7,
   "metadata": {},
   "outputs": [],
   "source": [
    "from pynwb.ecephys import ElectricalSeries, LFP\n",
    "lfp_data = np.random.randn(100, 7)\n",
    "ecephys_module = nwbfile.create_processing_module(\n",
    "    name='ecephys',\n",
    "    description='extracellular electrophysiology data')\n",
    "ecephys_module.add_data_interface(\n",
    "LFP(ElectricalSeries('lfp', lfp_data, all_table_region, \n",
    "rate=1000., resolution=.001, conversion=1.)))"
   ]
  },
  {
   "cell_type": "markdown",
   "metadata": {},
   "source": [
    "## Spike Times\n",
    "Spike times are stored in another `DynamicTable` of subtype `Units`. The main `Units` table is at `/units` in the HDF5 file. You can add columns to the `Units` table just like you did for `electrodes`."
   ]
  },
  {
   "cell_type": "code",
   "execution_count": 8,
   "metadata": {},
   "outputs": [],
   "source": [
    "for shankn, channels in enumerate(shank_channels):\n",
    "    for n_units_per_shank in range(np.random.poisson(lam=5)):\n",
    "        n_spikes = np.random.poisson(lam=10)\n",
    "        spike_times = np.abs(np.random.randn(n_spikes))\n",
    "        nwbfile.add_unit(spike_times=spike_times)"
   ]
  },
  {
   "cell_type": "markdown",
   "metadata": {},
   "source": [
    "## Write and read\n",
    "Data arrays are read passively from the file. That means `TimeSeries.data` does not read the entire data object, but presents an h5py object that can be indexed to read data. Index this array just like a numpy array to read only a specific section of the array, or use the `[:]` operator to read the entire thing."
   ]
  },
  {
   "cell_type": "code",
   "execution_count": 10,
   "metadata": {},
   "outputs": [
    {
     "name": "stdout",
     "output_type": "stream",
     "text": [
      "[[-1.18748994e+00 -1.02725896e+00  6.80845832e-01  1.41010819e+00\n",
      "   9.93847913e-01 -1.07257974e+00 -1.76200432e+00]\n",
      " [-1.91578338e+00 -9.00207419e-01  5.91149951e-01 -2.58572290e+00\n",
      "  -1.73342216e+00  1.15397889e+00 -7.66208021e-01]\n",
      " [-2.28052884e-01 -2.08688104e-01 -1.40442801e-01  2.51521720e-01\n",
      "   6.04263260e-02 -9.98354434e-02  1.08457621e+00]\n",
      " [-8.30306082e-01  2.78702874e-02 -1.15557359e+00 -1.53361656e+00\n",
      "  -8.10439648e-01  8.64130938e-02 -1.01399851e+00]\n",
      " [ 9.88800813e-01  8.60196534e-01 -1.13070345e+00  4.21478483e-01\n",
      "  -1.39917114e+00 -3.02864657e-01  1.43830828e+00]\n",
      " [ 4.58407372e-02  1.55692901e-01 -9.87254173e-01  9.20414330e-01\n",
      "  -1.05719026e+00 -1.58959302e+00  1.01406388e+00]\n",
      " [ 1.02244064e+00  4.42150202e-01  1.57886662e-01 -1.47574098e+00\n",
      "  -5.73636339e-01  1.72859034e+00  3.17727796e-01]\n",
      " [ 4.40830850e-03  2.42902334e-02  3.14347080e-02  8.60116748e-01\n",
      "   5.63744801e-02  8.70175600e-01 -6.54398389e-01]\n",
      " [-2.70055784e-01  2.80836658e-01  2.96627813e-01 -1.22255795e+00\n",
      "  -2.49816636e+00 -4.82817221e-02 -4.00840451e-01]\n",
      " [-2.19238143e+00  1.46674518e+00 -4.90982106e-01 -1.34011046e-01\n",
      "  -2.15160877e+00  9.38157025e-03 -8.11425686e-01]\n",
      " [ 9.81328704e-01 -1.29386216e+00 -7.35925200e-01  1.26504829e+00\n",
      "   9.87240018e-02 -8.19934149e-01 -3.35969836e-01]\n",
      " [ 1.28830762e+00 -5.80049978e-01 -3.44140053e-01 -3.81949669e-01\n",
      "  -4.54005934e-01 -1.54497124e+00 -5.60514802e-01]\n",
      " [-2.68059443e+00 -4.07394278e-01 -3.94990661e-02  1.25714288e+00\n",
      "   1.23175096e+00 -2.71591471e-01 -2.33823536e-01]\n",
      " [ 1.10671551e+00 -4.38783932e-02 -1.22989185e+00  1.12088640e-01\n",
      "   3.63958385e-01  3.69725778e-01  1.96383551e+00]\n",
      " [-2.41984542e-01 -8.91094788e-01  1.39050773e-01 -7.98820566e-01\n",
      "  -6.63442724e-01  7.56823903e-01  1.99890326e+00]\n",
      " [-1.50274797e-02 -2.02535992e-01 -4.41450873e-01 -4.33170027e-01\n",
      "   9.23106273e-01  4.58931781e-01 -2.01494556e-01]\n",
      " [ 5.84692885e-01  2.04735579e-01  3.89215698e-01 -8.24351688e-01\n",
      "   1.83065380e+00 -5.60068294e-01 -7.01577057e-02]\n",
      " [-1.29157039e+00 -8.55217753e-01 -3.98036620e-01  1.09171463e+00\n",
      "  -2.44956986e-01 -6.04394060e-01  1.98579829e+00]\n",
      " [ 2.96311438e-01 -6.34662294e-01  2.43557800e-01  5.93518421e-01\n",
      "  -8.24353574e-01  5.36343216e-01 -5.69038750e-01]\n",
      " [-1.11878047e+00 -1.94953909e+00 -4.24810015e-01 -2.03326443e-01\n",
      "   1.85859323e+00 -1.04235373e+00 -1.22781075e-01]\n",
      " [ 2.72725615e+00 -9.86193006e-01 -1.19115821e+00 -3.95999155e-01\n",
      "   7.66215517e-01 -8.88780830e-01  2.07273881e+00]\n",
      " [ 6.80629517e-01 -2.63289906e-01  1.51923562e+00 -6.82652166e-01\n",
      "  -2.71914736e+00 -5.91616203e-02 -3.16512724e-01]\n",
      " [ 6.95005961e-01  9.64127058e-02 -1.00403919e-01  1.04433528e+00\n",
      "  -2.10251372e+00 -2.17102462e+00  4.06807408e-01]\n",
      " [ 1.50969184e+00  2.33795229e+00  4.29520271e-01  1.80824153e-01\n",
      "   2.93642146e-01 -1.13829512e-01 -6.48352093e-01]\n",
      " [-7.62302259e-01 -1.01544742e+00 -5.19415054e-01  8.44815890e-01\n",
      "   1.41934533e+00  2.71454515e-01  1.45849630e+00]\n",
      " [ 1.44505914e-01 -5.10629318e-01  3.83669700e-02  1.54697516e+00\n",
      "   1.40837203e+00  2.08492345e-01 -8.73304205e-01]\n",
      " [ 1.49990906e+00  1.24406923e+00  1.05819609e+00  1.16437822e+00\n",
      "  -8.03464916e-01 -8.06748742e-01  2.64751175e+00]\n",
      " [-2.32164620e+00  1.09455673e+00  5.03041949e-01  4.90362560e-01\n",
      "   1.52736986e+00 -8.75323863e-01 -8.08701931e-01]\n",
      " [ 2.46010466e+00 -6.28149557e-01 -1.55027275e+00 -7.84111933e-01\n",
      "   1.98456705e-01  7.99703255e-02  6.94940401e-01]\n",
      " [ 1.55652994e-01  3.97529007e-01 -9.96233045e-01 -1.15956675e+00\n",
      "   1.21275026e+00 -3.01587387e-01 -6.58867025e-01]\n",
      " [ 6.30184223e-01  6.89381516e-01  5.74533635e-01  3.13899335e-01\n",
      "  -8.34312999e-01 -6.61055148e-01 -3.13372050e-01]\n",
      " [ 1.36608140e+00 -8.25118854e-01 -4.11666255e-01  8.93650469e-01\n",
      "  -8.24404328e-01 -1.44133699e+00 -6.13745988e-01]\n",
      " [-1.50935090e+00 -1.13415164e+00 -2.94557711e-01 -2.10649405e+00\n",
      "   1.27866758e+00 -5.34412000e-01  2.89330697e-01]\n",
      " [-2.86913686e-01 -3.97462329e-01 -2.00936188e+00 -1.85376533e-01\n",
      "  -1.45524927e-01  5.41252594e-02  1.12917936e+00]\n",
      " [-1.51094968e-01 -3.04399292e-01 -9.60257141e-02  1.53870593e+00\n",
      "   6.16500428e-01 -4.09719152e-01 -7.21885664e-01]\n",
      " [-4.85816081e-01 -9.17702324e-01 -2.73060994e-01  6.08077564e-01\n",
      "  -7.99883167e-01 -1.05061638e-01 -5.19187267e-01]\n",
      " [-9.60144327e-01  9.45533252e-01  4.50004418e-01  6.68421520e-01\n",
      "  -6.93007926e-01  6.48474204e-01 -1.45560302e-01]\n",
      " [-1.43256999e+00  1.17943155e+00 -6.86717916e-01 -6.94511497e-01\n",
      "  -1.88775803e-01  2.75456605e-01  2.77992170e-01]\n",
      " [-2.31509992e+00 -2.52475709e+00  7.97132690e-02 -2.17034498e-01\n",
      "   4.99036967e-01 -6.38572817e-01  2.33850301e+00]\n",
      " [ 1.09654347e+00  6.06501018e-01  4.82001983e-01 -1.07237248e-01\n",
      "  -4.02978912e-01  2.31735746e-01  2.76476205e+00]\n",
      " [ 1.21941274e+00  1.05425459e+00  2.95042588e+00  1.27201603e+00\n",
      "   6.59158327e-01 -2.99011991e-01  1.62729276e+00]\n",
      " [-1.27314716e+00 -4.88921272e-01  2.23201844e-02  3.19027471e+00\n",
      "  -4.63816812e-01 -3.72539160e-01  4.41649266e-02]\n",
      " [-5.52971468e-02  1.07432845e+00  1.45762681e+00 -1.05918324e-01\n",
      "  -5.54770370e-01 -9.34760270e-02  1.14818082e+00]\n",
      " [ 3.62114580e-01  2.63219749e-01 -1.96986799e+00  8.76457903e-01\n",
      "   8.80513222e-01  1.19148296e-01 -1.71551776e+00]\n",
      " [ 5.31979490e-01  4.84119010e-01 -7.45025313e-01  6.06832230e-02\n",
      "  -8.01603972e-01  9.57140801e-01  5.66790529e-01]\n",
      " [-8.37861932e-01  1.24547080e+00  1.60318746e+00 -1.06870564e+00\n",
      "   8.21820403e-01  7.52851300e-01  1.31627214e+00]\n",
      " [ 7.58907372e-02 -8.59963617e-01  8.43531803e-01 -1.25002800e+00\n",
      "   4.46155793e-01  9.02542074e-01  2.32400599e+00]\n",
      " [ 1.31159974e+00 -1.90874526e+00  1.08507394e+00  1.20880367e-01\n",
      "   2.97884604e-01 -1.09779774e+00  1.16002806e+00]\n",
      " [-3.58224546e-02 -3.50351344e-01  4.50891552e-01 -6.59579205e-01\n",
      "   1.01003878e+00 -9.43268252e-02 -1.92049504e+00]\n",
      " [-3.40041512e-01 -1.06969039e-01 -2.24165414e-01 -1.67530458e-01\n",
      "  -3.32667384e-01  1.60576695e-01  1.14995776e-01]\n",
      " [-2.56144030e-01 -9.09981425e-01  9.49139608e-02 -3.61340523e-01\n",
      "   3.26964879e+00 -2.86368287e-01 -1.58534436e+00]\n",
      " [ 1.15741086e+00  1.23711985e+00 -1.77311513e+00  1.25067079e+00\n",
      "  -1.20660066e+00  7.15197360e-01  1.24823989e+00]\n",
      " [-3.41305278e-01 -1.68146343e+00  1.79042569e+00  5.22205193e-01\n",
      "  -9.95876573e-01 -1.37503243e-02  4.40375895e-01]\n",
      " [ 1.74218104e+00  2.09138385e+00  2.13972915e-01  1.34873360e+00\n",
      "  -1.34726846e+00 -4.63554693e-01  3.24714886e-01]\n",
      " [ 6.97965559e-01  1.05256239e+00  1.71586942e+00  2.89975155e-01\n",
      "  -9.97333725e-01 -4.43730524e-01 -3.67160451e-01]\n",
      " [ 1.62850282e+00 -1.26366783e-01  7.90218234e-01  9.44285828e-01\n",
      "   7.62774908e-01 -1.18329169e-01  4.40311162e-01]\n",
      " [ 1.48186930e-01 -4.44411400e-01  1.39305352e+00 -4.57474908e-02\n",
      "  -4.78397334e-01 -2.75629232e-01  4.29182297e-01]\n",
      " [ 4.76453976e-01  8.02793709e-01 -1.29793768e+00 -1.04504413e+00\n",
      "  -6.51768527e-02  6.14264028e-01  1.29102876e+00]\n",
      " [-8.59961109e-01  1.92807528e+00 -6.64917520e-01  9.03926262e-02\n",
      "   2.24885379e-01  1.66362874e+00  2.77179326e-01]\n",
      " [-2.72080868e-03  4.36780823e-01  3.28857315e-01  1.72016889e+00\n",
      "  -2.21412917e+00 -1.21010524e+00  8.65723366e-01]\n",
      " [ 1.28944256e-01 -4.09203553e-02  5.47602868e-01  3.18683311e-01\n",
      "  -1.75769344e-01 -3.83820378e-01 -1.16119385e-02]\n",
      " [ 2.22713927e-01  2.34995597e-01 -1.28451583e+00 -1.68438496e+00\n",
      "   2.56605637e-01 -1.13058960e+00  1.44622546e+00]\n",
      " [-1.99264437e-01  4.65391546e-01  1.17370770e+00 -1.07715153e+00\n",
      "   1.02608032e+00 -2.20254023e+00  2.30410952e-01]\n",
      " [ 1.01286444e-01  2.40210880e-01  1.61401147e+00  6.68020319e-01\n",
      "   1.17628451e-01  3.29585645e+00  9.62768330e-01]\n",
      " [-4.40127949e-01  1.83738437e-01 -8.11417234e-01 -1.13548319e+00\n",
      "   4.22937942e-01 -8.72006665e-01  4.17154273e-02]\n",
      " [-3.27163340e-01  6.19525645e-01  8.99483646e-01 -6.68073666e-01\n",
      "  -3.49243372e-01  1.11621561e+00  6.83032877e-01]\n",
      " [ 2.11479253e+00 -2.35822663e+00  5.08137763e-01  3.55316562e-01\n",
      "   7.05986669e-02 -7.53233938e-01  1.30403028e+00]\n",
      " [ 1.17570296e+00  1.81997977e+00 -2.51725150e-01 -1.24142586e-02\n",
      "  -1.43674984e+00 -7.97610589e-01  5.47986947e-02]\n",
      " [-4.19331431e-01  8.29896157e-01  5.66608309e-01  6.44690056e-01\n",
      "   1.25447187e+00  2.40038561e+00  3.78089153e-01]\n",
      " [-3.87787806e-01  1.42998314e+00 -1.03891792e+00  5.64142231e-01\n",
      "  -3.37645954e-01 -1.42767826e+00  3.03586411e-01]\n",
      " [ 2.85093778e-01 -3.66645752e-01 -1.32138284e+00  5.80284871e-01\n",
      "   4.67662774e-01 -1.20888892e-01 -5.45225670e-01]\n",
      " [-1.37128449e-01 -1.32194119e-02 -4.28939705e-01  1.19928963e+00\n",
      "  -1.01006749e+00  4.90427944e-01 -1.42065616e+00]\n",
      " [-7.14273224e-01  2.11710396e+00  8.71893954e-01  1.11977773e+00\n",
      "  -1.49333195e+00 -6.80964002e-03  1.74571573e+00]\n",
      " [-2.51465126e-01  1.01257499e+00  1.07359104e+00 -6.45424818e-01\n",
      "  -4.75588984e-01 -1.05723186e+00  1.00495011e+00]\n",
      " [ 6.31768915e-02  5.24912910e-01 -8.23352060e-01  2.63676151e-01\n",
      "  -3.57439429e-01  3.65714473e-01 -1.15561583e+00]\n",
      " [ 9.96296959e-01  1.30161095e+00  9.37877450e-01  9.30125829e-01\n",
      "  -8.66156733e-02  6.44895406e-01  6.87308695e-01]\n",
      " [-4.52842466e-01  3.97138833e-01  1.31345137e+00 -6.05219881e-01\n",
      "   6.01250641e-01 -5.43927913e-01  2.00657510e+00]\n",
      " [-5.38169344e-02  4.82490184e-01  6.66230704e-01  1.00294851e-01\n",
      "  -3.38718499e-01  2.77086494e-02  1.25208477e+00]\n",
      " [-3.60913995e-01 -8.24707266e-01 -7.84579744e-02  7.01313452e-01\n",
      "   5.32318356e-01 -3.70442047e-01 -1.85716977e-02]\n",
      " [ 8.10470506e-01  4.57949184e-01 -9.16955951e-01 -3.03886851e-01\n",
      "  -1.18461611e-01  2.12101453e-01  4.51568607e-01]\n",
      " [-3.64411562e-01 -5.30299781e-01 -5.56503122e-01  6.09433909e-01\n",
      "  -1.10582313e+00 -1.20623365e-01  3.80503040e-01]\n",
      " [ 9.76977481e-02 -1.31596423e-01 -1.16248855e+00  1.06515018e+00\n",
      "   1.93726894e+00  3.96196223e-01 -3.51224786e-01]\n",
      " [-2.41152865e+00  2.27960146e+00 -3.12264269e-01  2.12230426e+00\n",
      "   2.61270494e+00 -1.12406369e+00  1.69568932e-01]\n",
      " [ 7.05403028e-01  2.43763403e-02  6.11465452e-01 -4.20674880e-01\n",
      "  -2.70165923e-01  2.28940223e-01 -4.94622575e-01]\n",
      " [-5.34448727e-01 -6.94247716e-01  1.68006625e+00 -6.31529971e-01\n",
      "  -1.04118049e+00  1.22408385e+00  1.44704451e-01]\n",
      " [-1.66676445e-01  1.04282407e+00  7.36520918e-01 -9.12225176e-02\n",
      "  -1.50546075e+00  1.92709390e-01  3.65071418e-01]\n",
      " [ 7.55831867e-01 -8.84432464e-01 -4.06725469e-01 -5.97991564e-01\n",
      "  -9.27942522e-01  4.14561830e-01  2.63237827e-01]\n",
      " [ 1.79833343e-01 -2.14479778e+00  1.01735536e+00 -1.35919145e-01\n",
      "   1.31229509e+00 -2.76824916e-01 -7.86429181e-01]\n",
      " [ 1.06184407e+00  8.48674312e-01 -5.08767267e-01 -9.17141673e-02\n",
      "   9.37021898e-01  4.56787101e-01  1.08755135e-01]\n",
      " [ 5.76516427e-01  1.66480012e+00 -4.94398685e-01  1.34443338e+00\n",
      "  -6.11066019e-01 -3.63626026e-01  8.38789639e-01]\n",
      " [ 3.33531363e-01  8.25205151e-01  7.16614574e-01  9.46510036e-01\n",
      "   3.07328812e-01  1.13143229e+00  3.49383238e-01]\n",
      " [-1.86433745e+00 -6.32593870e-02  1.15123259e+00  2.00954721e-01\n",
      "  -1.00174025e+00  1.13009992e+00  5.57538720e-01]\n",
      " [-1.19300816e-01  5.83972330e-01  1.71070522e-01 -3.73109066e-01\n",
      "  -5.49542248e-01 -1.77958020e+00  1.18576246e+00]\n",
      " [ 5.67529630e-01  5.07921678e-01 -1.37682694e-01 -2.36910783e-01\n",
      "   9.42149772e-01  1.80540334e-01  7.43259069e-01]\n",
      " [-2.25878329e-01  9.27680571e-01  6.36430391e-01  9.84531019e-01\n",
      "   1.47808284e+00 -1.47209138e+00 -9.10209903e-01]\n",
      " [-2.02913254e-01 -4.63895451e-01 -1.45765241e+00  8.11577979e-01\n",
      "   1.15398684e+00  1.91283778e+00  1.10979068e-01]\n",
      " [-1.50011625e+00 -9.44171222e-02  7.09493866e-01 -4.09783830e-01\n",
      "   3.61918961e-01 -4.33555247e-01 -4.16999539e-01]\n",
      " [ 5.34734787e-01 -3.31290086e-01  7.57103336e-01 -3.93971967e-01\n",
      "  -2.70027654e-01 -5.76638174e-01 -7.28264273e-01]\n",
      " [-9.24925110e-02 -1.04481807e+00  1.60892231e+00  1.98912207e-01\n",
      "  -8.20713792e-01 -6.72565813e-01 -8.64606330e-01]\n",
      " [ 1.29874520e+00 -2.88805695e-01 -1.41308850e-01 -1.25091036e-01\n",
      "   1.25742789e-01 -2.82622541e-01 -6.17634611e-01]]\n"
     ]
    }
   ],
   "source": [
    "from pynwb import NWBHDF5IO\n",
    "\n",
    "with NWBHDF5IO('test_ephys.nwb', 'w') as io:\n",
    "    io.write(nwbfile)\n",
    "\n",
    "with NWBHDF5IO('test_ephys.nwb', 'r') as io:\n",
    "    nwbfile2 = io.read()\n",
    "\n",
    "    print(nwbfile2.modules['ecephys']['LFP'].electrical_series['lfp'].data[:])"
   ]
  },
  {
   "cell_type": "markdown",
   "metadata": {},
   "source": [
    "## Accessing data regions\n",
    "You can easily read subsections of datasets"
   ]
  },
  {
   "cell_type": "code",
   "execution_count": 11,
   "metadata": {},
   "outputs": [
    {
     "name": "stdout",
     "output_type": "stream",
     "text": [
      "section of lfp:\n",
      "[[-1.18748994 -1.02725896  0.68084583  1.41010819  0.99384791]\n",
      " [-1.91578338 -0.90020742  0.59114995 -2.5857229  -1.73342216]\n",
      " [-0.22805288 -0.2086881  -0.1404428   0.25152172  0.06042633]\n",
      " [-0.83030608  0.02787029 -1.15557359 -1.53361656 -0.81043965]\n",
      " [ 0.98880081  0.86019653 -1.13070345  0.42147848 -1.39917114]\n",
      " [ 0.04584074  0.1556929  -0.98725417  0.92041433 -1.05719026]\n",
      " [ 1.02244064  0.4421502   0.15788666 -1.47574098 -0.57363634]\n",
      " [ 0.00440831  0.02429023  0.03143471  0.86011675  0.05637448]\n",
      " [-0.27005578  0.28083666  0.29662781 -1.22255795 -2.49816636]\n",
      " [-2.19238143  1.46674518 -0.49098211 -0.13401105 -2.15160877]]\n",
      "\n",
      "\n",
      "spike times from first unit:\n",
      "[0.02647075 0.07243559 1.50147784 0.18226922 1.16359468 1.4911805\n",
      " 0.25810137 0.58790677 0.5408381 ]\n"
     ]
    }
   ],
   "source": [
    "io = NWBHDF5IO('test_ephys.nwb', 'r')\n",
    "nwbfile2 = io.read()\n",
    "\n",
    "print('section of lfp:')\n",
    "print(nwbfile2.modules['ecephys']['LFP'].electrical_series['lfp'].data[:10,:5])\n",
    "print('')\n",
    "print('')\n",
    "print('spike times from first unit:')\n",
    "print(nwbfile2.units['spike_times'][0])\n",
    "io.close()"
   ]
  },
  {
   "cell_type": "code",
   "execution_count": null,
   "metadata": {},
   "outputs": [],
   "source": []
  }
 ],
 "metadata": {
  "kernelspec": {
   "display_name": "Python 3",
   "language": "python",
   "name": "python3"
  },
  "language_info": {
   "codemirror_mode": {
    "name": "ipython",
    "version": 3
   },
   "file_extension": ".py",
   "mimetype": "text/x-python",
   "name": "python",
   "nbconvert_exporter": "python",
   "pygments_lexer": "ipython3",
   "version": "3.6.8"
  }
 },
 "nbformat": 4,
 "nbformat_minor": 2
}
